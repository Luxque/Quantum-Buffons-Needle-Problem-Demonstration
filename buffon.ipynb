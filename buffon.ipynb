{
 "cells": [
  {
   "cell_type": "markdown",
   "id": "4878f5e1",
   "metadata": {},
   "source": [
    "# Quantum Buffon's Needle Problem Demonstration"
   ]
  },
  {
   "cell_type": "markdown",
   "id": "ed2a4c78",
   "metadata": {},
   "source": [
    "## Abstract\n",
    "\n",
    "Quantum computes promise numerous advantages, including quantum parallelism, quantum simulation, and quantum cryptograhpy.\n",
    "Since the theory of local hidden variables has been disproven, it is established that quantum systems are capable of generating truly random outputs.\n",
    "By preparing qubits in superposition states, one can obtain uniformly distributed random outputs.\n",
    "This notebook presents a demonstration of quantum randomness through Buffon's needle problem, a probabilistic mehtod for estimating the value of $\\pi$.\n",
    "In this problem, needles of fixed length are randomly dropped onto a plane with evenly spaced parallel lines, and the ratio between the number of intersections and the total number of throws converges to $\\pi$.\n",
    "The random positions and orientations of the needles are generated using a quantum computer, effectively simulating the experiment.\n",
    "The purpose of this work is not to accelerate the computation of $\\pi$, but rather to illustrate the quality of randomness obtainable from quantum processes and to highlight their potential in probabilistic simulations.\n",
    "This demonstration connects a mathematical conclusion to modern quantum technology, offering both pedagogical value and an example of the interplay between probability and quantum computation."
   ]
  },
  {
   "cell_type": "markdown",
   "id": "3559dccc",
   "metadata": {},
   "source": [
    "## Introduction"
   ]
  },
  {
   "cell_type": "markdown",
   "id": "3f75ac84",
   "metadata": {},
   "source": [
    "### Buffon's Needle Problem\n",
    "\n",
    "We shall begin by introducing the context behind Buffon's needle problem.\n",
    "Consider a plane marked with evenly spaced horizontal parallel lines, separated by distance $D$.\n",
    "A set of needles, each of length fixed $l < D$, is randomly dropped onto the plane.\n",
    "Some needles will intersect (or cross) one of the lines, while others will land entirely in the blank spaces between the lines.\n",
    "If we let $N_{\\text{cross}}$ denote the number of needles that intersect a line and $N_{\\text{total}}$ the total number of needles thrown, then the ratio $\\frac{N_{\\text{cross}}}{N_{\\text{total}}}$ converges, as the number of throws increases, to the true probability $\\mathbb{P}_{\\text{cross}}$ of a needle crossing a line.\n",
    "Consequently, the probability can be approximated by:\n",
    "$$\\mathbb{P}_{\\text{cross}} \\approx \\frac{N_{\\text{cross}}}{N_{\\text{total}}} \\text{.}$$\n",
    "\n",
    "Let us simplify the situation.\n",
    "We can remove all the lines on the plane except for two consecutive ones separated by distance $D$.\n",
    "Now place a needle between these lines with a random orientation $\\theta$.\n",
    "\n",
    "We can look at this problem from a different perspective.\n",
    "Instead of focusing on the two lines, imagine throwing a line segment of length $D$ and checking whether it lands on top of the needle.\n",
    "In this setting, the position (both horizontal and vertical) position of the needle does not matter; only the vertical projection of the needle, denoted $y$, is relevant.\n",
    "By symmetry, it suffices to restrict the orientation to the range $0 \\leq \\theta \\leq \\frac{\\pi}{2}$.\n",
    "\n",
    "Once a line is thrown into the strip, the probability that it lands on the needle is $\\frac{y}{D}$.\n",
    "Since the vertical projection can be expressed in terms of the orientation, $y = l\\sin(\\theta)$, we have:\n",
    "$$P(\\theta) = \\frac{y}{D} = \\frac{l\\sin(\\theta)}{D} \\text{.}$$\n",
    "\n",
    "Here, $P(\\theta)$ represents the conditional probability of a crossing given that the needle has orientation $\\theta$.\n",
    "However, in the actual experiment, the orientation $\\theta$ itself is random and uniformly distributed in $\\left[0, \\frac{\\pi}{2}\\right]$.\n",
    "To obtain the overall crossing probability, we therefore compute the expected value of $P(\\theta)$ over all possible orientations in $\\left[0, \\frac{\\pi}{2}\\right]$.\n",
    "$$\n",
    "\\begin{align*}\n",
    "    \\mathbb{P}_{\\text{cross}} &= \\mathbb{E}[P(\\theta)] \\\\\n",
    "    &= \\frac{1}{\\frac{\\pi}{2}-0} \\int_{0}^{\\frac{\\pi}{2}} P(\\theta) \\,\\text{d}\\theta \\\\\n",
    "    &= \\frac{2}{\\pi} \\int_{0}^{\\frac{\\pi}{2}} \\frac{l\\sin(\\theta)}{D} \\,\\text{d}\\theta \\\\\n",
    "    &= \\frac{2l}{\\pi{D}} \\left[-\\cos(\\theta)\\right]_{\\theta=0}^{\\theta=\\frac{\\pi}{2}} \\\\\n",
    "    &= \\frac{2l}{\\pi{D}}\n",
    "\\end{align*}\n",
    "$$\n",
    "\n",
    "From the theoratical probability we just derived, we can now construct a formula to approximate the value of $\\pi$.\n",
    "$$\n",
    "\\begin{align*}\n",
    "    \\mathbb{P}_{\\text{cross}} \\approx \\frac{N_{\\text{cross}}}{N_{\\text{total}}} &\\implies \\frac{2l}{\\pi{D}} \\approx \\frac{N_{\\text{cross}}}{N_{\\text{total}}} \\\\\n",
    "    &\\implies \\frac{1}{\\pi} \\approx \\frac{DN_{\\text{cross}}}{2lN_{\\text{total}}} \\\\\n",
    "    &\\implies \\pi \\approx \\frac{2lN_{\\text{all}}}{DN_{\\text{cross}}}\n",
    "\\end{align*}\n",
    "$$\n",
    "\n",
    "To simulate this problem, we need to randomly generate two numbers: the vertical position of the thrown line, $y' \\in [0, D]$, and the orientation of the needle, $\\theta \\in \\left[0, \\frac{\\pi}{2}\\right]$.\n",
    "A crossing is detected by cehcking whether $y' \\leq y = l\\sin(\\theta)$.\n",
    "\n",
    "Next, we shall describe how to generate uniformly random bits using a quantum computer and how to convert the retrieved bit strings into uniformly distributed floating-point numbers within a given range."
   ]
  },
  {
   "cell_type": "markdown",
   "id": "ccdf8c48",
   "metadata": {},
   "source": [
    "### Random Number Generation"
   ]
  },
  {
   "cell_type": "markdown",
   "id": "761847ec",
   "metadata": {},
   "source": [
    "## Demonstration\n",
    "\n",
    "### Installation\n",
    "\n",
    "Assuming that Python is installed on the hosted device, we now install the essential packages for this demonstration: Qiskit and Qiskit Aer."
   ]
  },
  {
   "cell_type": "code",
   "execution_count": null,
   "id": "6c2b968a",
   "metadata": {},
   "outputs": [],
   "source": [
    "%pip install qiskit qiskit-aer qiskit-ibm-runtime matplotlib tqdm -U"
   ]
  },
  {
   "cell_type": "code",
   "execution_count": null,
   "id": "51ebb42b",
   "metadata": {},
   "outputs": [],
   "source": [
    "from qiskit import QuantumCircuit, generate_preset_pass_manager\n",
    "from qiskit_ibm_runtime import QiskitRuntimeService, SamplerV2 as Sampler\n",
    "from qiskit_aer.primitives import SamplerV2 as Simulator\n",
    "import math\n",
    "import matplotlib.pyplot as plt\n",
    "from tqdm import tqdm"
   ]
  },
  {
   "cell_type": "markdown",
   "id": "5529861b",
   "metadata": {},
   "source": [
    "### Classical Simulation\n",
    "\n",
    "It is good idea to simulate first and then run the algorithm in a real quantum computer."
   ]
  },
  {
   "cell_type": "code",
   "execution_count": null,
   "id": "d07f094f",
   "metadata": {},
   "outputs": [],
   "source": [
    "def get_qc(num_qubits: int) -> QuantumCircuit:\n",
    "    qc = QuantumCircuit(num_qubits)\n",
    "    for i in range(num_qubits):\n",
    "        qc.h(i)\n",
    "    qc.measure_all()\n",
    "    \n",
    "    return qc"
   ]
  },
  {
   "cell_type": "code",
   "execution_count": null,
   "id": "5511989a",
   "metadata": {},
   "outputs": [],
   "source": [
    "def get_counts_simulation(qc: QuantumCircuit, throws: int) -> dict:\n",
    "    simulator = Simulator()\n",
    "    job = simulator.run([qc], shots=2*throws)\n",
    "    result = job.result()\n",
    "    counts = result[0].data.meas.get_counts()\n",
    "    \n",
    "    return counts"
   ]
  },
  {
   "cell_type": "code",
   "execution_count": null,
   "id": "f36fdfce",
   "metadata": {},
   "outputs": [],
   "source": [
    "def get_binary_string(counts: dict) -> str:\n",
    "    picked = list(counts.keys())[0]\n",
    "\n",
    "    if counts[picked] == 1:\n",
    "        del counts[picked]\n",
    "    else:\n",
    "        counts[picked] -= 1\n",
    "\n",
    "    return picked"
   ]
  },
  {
   "cell_type": "code",
   "execution_count": null,
   "id": "e4a0f500",
   "metadata": {},
   "outputs": [],
   "source": [
    "def get_float(string: str, start: float, end: float) -> float:\n",
    "    integer = int(string, 2)\n",
    "    normalized = integer / (2 ** len(string) - 1)\n",
    "    scale = end - start\n",
    "\n",
    "    return start + scale * normalized"
   ]
  },
  {
   "cell_type": "code",
   "execution_count": null,
   "id": "67cf887d",
   "metadata": {},
   "outputs": [],
   "source": [
    "def throw_needle(needle_length: float, position: float, orientation: float) -> bool:\n",
    "    return position <= needle_length * math.sin(orientation)"
   ]
  },
  {
   "cell_type": "code",
   "execution_count": null,
   "id": "d3cbd458",
   "metadata": {},
   "outputs": [],
   "source": [
    "strip_length = 5.0 # Your strip length here.\n",
    "needle_length = 3.0 # Your needle length here.\n",
    "num_qubits = 52 # Number of qubits to use.\n",
    "throws = 50_000 # Number of needle throws.\n",
    "\n",
    "if strip_length <= needle_length:\n",
    "    raise ValueError(\"Needle length must be less than strip length.\")"
   ]
  },
  {
   "cell_type": "code",
   "execution_count": null,
   "id": "2e1b478c",
   "metadata": {},
   "outputs": [],
   "source": [
    "qc = get_qc(num_qubits)\n",
    "counts = get_counts_simulation(qc, throws)\n",
    "\n",
    "cross, total = 0, 0\n",
    "throw_list_simulation, error_list_simulation = [], []\n",
    "report_string = \"\"\n",
    "width = len(str(throws))\n",
    "\n",
    "for i in tqdm(range(1, throws+1)):\n",
    "    position = get_float(get_binary_string(counts), 0.0, strip_length)\n",
    "    orientation = get_float(get_binary_string(counts), 0.0, math.pi/2.0)\n",
    "\n",
    "    cross += 1 if throw_needle(needle_length, position, orientation) else 0\n",
    "    total += 1\n",
    "\n",
    "    if cross != 0:\n",
    "        approx_pi = (2.0 * needle_length * total) / (strip_length * cross)\n",
    "        error = abs(math.pi - approx_pi) / math.pi\n",
    "        error_rate = error * 100.0\n",
    "\n",
    "        throw_list_simulation.append(i)\n",
    "        error_list_simulation.append(error)\n",
    "\n",
    "    if i % (throws // 20) == 0:\n",
    "        report_string += f\"Throw #{i:{width}}: π ≈ {approx_pi:.10f} (error rate: {error_rate:.10f}%)\\n\"\n",
    "\n",
    "print(report_string)\n",
    "\n",
    "plt.figure()\n",
    "plt.loglog(throw_list_simulation, error_list_simulation, linestyle='-', color='blue')\n",
    "plt.xlabel(\"Number of Throws\")\n",
    "plt.ylabel(\"Error Rate (%)\")\n",
    "plt.title(\"Convergence of Buffon's Needle Simulation (Simulation)\")\n",
    "plt.grid(True, linestyle='--', alpha=0.5)\n",
    "plt.show()"
   ]
  },
  {
   "cell_type": "markdown",
   "id": "f9356c32",
   "metadata": {},
   "source": [
    "### Quantum Implementation"
   ]
  },
  {
   "cell_type": "code",
   "execution_count": null,
   "id": "a0de9628",
   "metadata": {},
   "outputs": [],
   "source": [
    "def get_counts_quantum(qc: QuantumCircuit, throws: int, token: str, crn: str) -> dict:\n",
    "    service = QiskitRuntimeService(channel='ibm_quantum_platform', token=token, instance=crn)\n",
    "    backend = service.backends(simulator=False, operational=True)[0]\n",
    "\n",
    "    pm = generate_preset_pass_manager(backend=backend, optimization_level=0)\n",
    "    trans_qc = pm.run(qc)\n",
    "    \n",
    "    sampler = Sampler(mode=backend)\n",
    "    job = sampler.run([trans_qc], shots=2*throws)\n",
    "    result = job.result()\n",
    "    counts = result[0].data.meas.get_counts()\n",
    "    \n",
    "    return counts"
   ]
  },
  {
   "cell_type": "code",
   "execution_count": null,
   "id": "8f046437",
   "metadata": {},
   "outputs": [],
   "source": [
    "token = \"\" # Your IBM Quantum token here.\n",
    "crn = \"\" # Your IBM Quantum cloud resource name here."
   ]
  },
  {
   "cell_type": "code",
   "execution_count": null,
   "id": "aadfe889",
   "metadata": {},
   "outputs": [],
   "source": [
    "qc = get_qc(num_qubits)\n",
    "counts = get_counts_quantum(qc, throws, token, crn)\n",
    "\n",
    "cross, total = 0, 0\n",
    "throw_list_quantum, error_list_quantum = [], []\n",
    "report_string = \"\"\n",
    "width = len(str(throws))\n",
    "\n",
    "for i in tqdm(range(1, throws+1)):\n",
    "    position = get_float(get_binary_string(counts), 0.0, strip_length)\n",
    "    orientation = get_float(get_binary_string(counts), 0.0, math.pi/2.0)\n",
    "\n",
    "    cross += 1 if throw_needle(needle_length, position, orientation) else 0\n",
    "    total += 1\n",
    "\n",
    "    if cross != 0:\n",
    "        approx_pi = (2.0 * needle_length * total) / (strip_length * cross)\n",
    "        error = abs(math.pi - approx_pi) / math.pi\n",
    "        error_rate = error * 100.0\n",
    "\n",
    "        throw_list_quantum.append(i)\n",
    "        error_list_quantum.append(error)\n",
    "\n",
    "    if i % (throws // 20) == 0:\n",
    "        report_string += f\"Throw #{i:{width}}: π ≈ {approx_pi:.10f} (error rate: {error_rate:.10f}%)\\n\"\n",
    "\n",
    "print(report_string)\n",
    "\n",
    "plt.figure()\n",
    "plt.loglog(throw_list_quantum, error_list_quantum, linestyle='-', color='red')\n",
    "plt.xlabel(\"Number of Throws\")\n",
    "plt.ylabel(\"Error Rate (%)\")\n",
    "plt.title(\"Convergence of Buffon's Needle Simulation (Quantum)\")\n",
    "plt.grid(True, linestyle='--', alpha=0.5)\n",
    "plt.show()"
   ]
  },
  {
   "cell_type": "markdown",
   "id": "3d870ed0",
   "metadata": {},
   "source": [
    "## Discussion\n",
    "\n",
    "In fact this is not a good demonstration for the efficiency of using quantum computers."
   ]
  },
  {
   "cell_type": "markdown",
   "id": "e3715f5c",
   "metadata": {},
   "source": [
    "## Conclusion\n"
   ]
  },
  {
   "cell_type": "markdown",
   "id": "29af7b53",
   "metadata": {},
   "source": [
    "## References\n",
    "\n",
    "* https://mathworld.wolfram.com/BuffonsNeedleProblem.html"
   ]
  }
 ],
 "metadata": {
  "kernelspec": {
   "display_name": "venv",
   "language": "python",
   "name": "python3"
  },
  "language_info": {
   "codemirror_mode": {
    "name": "ipython",
    "version": 3
   },
   "file_extension": ".py",
   "mimetype": "text/x-python",
   "name": "python",
   "nbconvert_exporter": "python",
   "pygments_lexer": "ipython3",
   "version": "3.13.7"
  }
 },
 "nbformat": 4,
 "nbformat_minor": 5
}
