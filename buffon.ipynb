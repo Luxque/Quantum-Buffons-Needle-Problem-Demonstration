{
 "cells": [
  {
   "cell_type": "markdown",
   "id": "4878f5e1",
   "metadata": {},
   "source": [
    "# Quantum Buffon's Needle Problem Demonstration"
   ]
  },
  {
   "cell_type": "markdown",
   "id": "ed2a4c78",
   "metadata": {},
   "source": [
    "## Abstract\n",
    "\n",
    "Quantum computes promise numerous advantages, including quantum parallelism, quantum simulation, and quantum cryptograhpy.\n",
    "Since the theory of local hidden variables has been disproven, it is established that quantum systems are capable of generating truly random outputs.\n",
    "By preparing qubits in superposition states, one can obtain uniformly distributed random outputs.\n",
    "This notebook presents a demonstration of quantum randomness through Buffon's needle problem, a probabilistic mehtod for estimating the value of $\\pi$.\n",
    "In this problem, needles of fixed length are randomly dropped onto a plane with evenly spaced parallel lines, and the ratio between the number of intersections and the total number of throws converges to $\\pi$.\n",
    "The random positions and orientations of the needles are generated using a quantum computer, effectively simulating the experiment.\n",
    "The purpose of this work is not to accelerate the computation of $\\pi$, but rather to illustrate the quality of randomness obtainable from quantum processes and to highlight their potential in probabilistic simulations.\n",
    "This demonstration connects a mathematical conclusion to modern quantum technology, offering both pedagogical value and an example of the interplay between probability and quantum computation."
   ]
  },
  {
   "cell_type": "markdown",
   "id": "3559dccc",
   "metadata": {},
   "source": [
    "## Introduction\n",
    "\n",
    "$$\n",
    "\\mathbb{P}_{\\text{crossing}} \\approx \\frac{N_{\\text{crossed}}}{N_{\\text{total}}}\n",
    "$$\n",
    "$$\n",
    "\\begin{align*}\n",
    "    \\mathbb{P}_{\\text{crossing}} &= \\text{Average of $P(\\theta)$} \\\\\n",
    "    &= \\frac{1}{\\frac{\\pi}{2}-0} \\int_{0}^{\\frac{\\pi}{2}} P(\\theta) \\,\\text{d}\\theta \\\\\n",
    "    &= \\frac{2}{\\pi} \\int_{0}^{\\frac{\\pi}{2}} \\frac{l\\sin(\\theta)}{D} \\,\\text{d}\\theta \\\\\n",
    "    &= \\frac{2l}{\\pi{D}} \\left[-\\cos(\\theta)\\right]_{\\theta=0}^{\\theta=\\frac{\\pi}{2}} \\\\\n",
    "    &= \\frac{2l}{\\pi{D}}\n",
    "\\end{align*}\n",
    "$$\n",
    "$$\n",
    "\\begin{align*}\n",
    "    \\mathbb{P}_{\\text{crossing}} \\approx \\frac{N_{\\text{crossed}}}{N_{\\text{total}}} &\\implies \\frac{2l}{\\pi{D}} \\approx \\frac{N_{\\text{crossed}}}{N_{\\text{total}}} \\\\\n",
    "    &\\implies \\frac{1}{\\pi} \\approx \\frac{DN_{\\text{crossed}}}{2lN_{\\text{total}}} \\\\\n",
    "    &\\implies \\pi \\approx \\frac{2lN_{\\text{all}}}{DN_{\\text{crossed}}} \n",
    "\\end{align*}\n",
    "$$"
   ]
  },
  {
   "cell_type": "markdown",
   "id": "761847ec",
   "metadata": {},
   "source": [
    "## Demonstration\n",
    "\n",
    "### Installation\n",
    "\n",
    "Assuming that Python is installed on the hosted device, we now install the essential packages for this demonstration: Qiskit and Qiskit Aer."
   ]
  },
  {
   "cell_type": "code",
   "execution_count": null,
   "id": "6c2b968a",
   "metadata": {},
   "outputs": [],
   "source": [
    "%pip install qiskit qiskit-aer"
   ]
  },
  {
   "cell_type": "markdown",
   "id": "5529861b",
   "metadata": {},
   "source": [
    "It is good idea to simulate first and then run the algorithm in a real quantum computer."
   ]
  },
  {
   "cell_type": "markdown",
   "id": "3d870ed0",
   "metadata": {},
   "source": [
    "## Discussion\n",
    "\n",
    "In fact this is not a good demonstration for the efficiency of using quantum computers."
   ]
  },
  {
   "cell_type": "markdown",
   "id": "e3715f5c",
   "metadata": {},
   "source": [
    "## Conclusion\n"
   ]
  },
  {
   "cell_type": "markdown",
   "id": "29af7b53",
   "metadata": {},
   "source": [
    "## Reference"
   ]
  }
 ],
 "metadata": {
  "kernelspec": {
   "display_name": "venv",
   "language": "python",
   "name": "python3"
  },
  "language_info": {
   "codemirror_mode": {
    "name": "ipython",
    "version": 3
   },
   "file_extension": ".py",
   "mimetype": "text/x-python",
   "name": "python",
   "nbconvert_exporter": "python",
   "pygments_lexer": "ipython3",
   "version": "3.13.7"
  }
 },
 "nbformat": 4,
 "nbformat_minor": 5
}
