{
 "cells": [
  {
   "cell_type": "markdown",
   "id": "4878f5e1",
   "metadata": {},
   "source": [
    "# Quantum Buffon's Needle Problem Demonstration"
   ]
  },
  {
   "cell_type": "markdown",
   "id": "ed2a4c78",
   "metadata": {},
   "source": [
    "## Abstract\n",
    "\n",
    "Quantum computes promise numerous advantages, including quantum parallelism, quantum simulation, and quantum cryptograhpy.\n",
    "Since the theory of local hidden variables has been disproven, it is established that quantum systems are capable of generating truly random outputs.\n",
    "By preparing qubits in superposition states, one can obtain uniformly distributed random outputs.\n",
    "This notebook presents a demonstration of quantum randomness through Buffon's needle problem, a probabilistic mehtod for estimating the value of $\\pi$.\n",
    "In this problem, needles of fixed length are randomly dropped onto a plane with evenly spaced parallel lines, and the ratio between the number of intersections and the total number of throws converges to $\\pi$.\n",
    "The random positions and orientations of the needles are generated using a quantum computer, effectively simulating the experiment.\n",
    "The purpose of this work is not to accelerate the computation of $\\pi$, but rather to illustrate the quality of randomness obtainable from quantum processes and to highlight their potential in probabilistic simulations.\n",
    "This demonstration connects a mathematical conclusion to modern quantum technology, offering both pedagogical value and an example of the interplay between probability and quantum computation."
   ]
  },
  {
   "cell_type": "markdown",
   "id": "3559dccc",
   "metadata": {},
   "source": [
    "## Introduction"
   ]
  },
  {
   "cell_type": "markdown",
   "id": "3f75ac84",
   "metadata": {},
   "source": [
    "### Buffon's Needle Problem\n",
    "\n",
    "We shall begin by introducing the context behind Buffon's needle problem.\n",
    "Consider a plane marked with evenly spaced horizontal parallel lines, separated by distance $D$.\n",
    "A set of needles, each of length fixed $l < D$, is randomly dropped onto the plane.\n",
    "Some needles will intersect (or cross) one of the lines, while others will land entirely in the blank spaces between the lines.\n",
    "If we let $N_{\\text{cross}}$ denote the number of needles that intersect a line and $N_{\\text{total}}$ the total number of needles thrown, then the ratio $\\frac{N_{\\text{cross}}}{N_{\\text{total}}}$ converges, as the number of throws increases, to the true probability $\\mathbb{P}_{\\text{cross}}$ of a needle crossing a line.\n",
    "Consequently, the probability can be approximated by:\n",
    "$$\\mathbb{P}_{\\text{cross}} \\approx \\frac{N_{\\text{cross}}}{N_{\\text{total}}} \\text{.}$$\n",
    "\n",
    "Let us simplify the situation.\n",
    "We can remove all the lines on the plane except for two consecutive ones separated by distance $D$.\n",
    "Now place a needle between these lines with a random orientation $\\theta$.\n",
    "\n",
    "We can look at this problem from a different perspective.\n",
    "Instead of focusing on the two lines, imagine throwing a line segment of length $D$ and checking whether it lands on top of the needle.\n",
    "In this setting, the position (both horizontal and vertical) position of the needle does not matter; only the vertical projection of the needle, denoted $y$, is relevant.\n",
    "By symmetry, it suffices to restrict the orientation to the range $0 \\leq \\theta \\leq \\frac{\\pi}{2}$.\n",
    "\n",
    "Once a line is thrown into the strip, the probability that it lands on the needle is $\\frac{y}{D}$.\n",
    "Since the vertical projection can be expressed in terms of the orientation, $y = l\\sin(\\theta)$, we have:\n",
    "$$P(\\theta) = \\frac{y}{D} = \\frac{l\\sin(\\theta)}{D} \\text{.}$$\n",
    "\n",
    "Here, $P(\\theta)$ represents the conditional probability of a crossing given that the needle has orientation $\\theta$.\n",
    "However, in the actual experiment, the orientation $\\theta$ itself is random and uniformly distributed in $\\left[0, \\frac{\\pi}{2}\\right]$.\n",
    "To obtain the overall crossing probability, we therefore compute the expected value of $P(\\theta)$ over all possible orientations in $\\left[0, \\frac{\\pi}{2}\\right]$.\n",
    "$$\n",
    "\\begin{align*}\n",
    "    \\mathbb{P}_{\\text{cross}} &= \\mathbb{E}[P(\\theta)] \\\\\n",
    "    &= \\frac{1}{\\frac{\\pi}{2}-0} \\int_{0}^{\\frac{\\pi}{2}} P(\\theta) \\,\\text{d}\\theta \\\\\n",
    "    &= \\frac{2}{\\pi} \\int_{0}^{\\frac{\\pi}{2}} \\frac{l\\sin(\\theta)}{D} \\,\\text{d}\\theta \\\\\n",
    "    &= \\frac{2l}{\\pi{D}} \\left[-\\cos(\\theta)\\right]_{\\theta=0}^{\\theta=\\frac{\\pi}{2}} \\\\\n",
    "    &= \\frac{2l}{\\pi{D}}\n",
    "\\end{align*}\n",
    "$$\n",
    "\n",
    "From the theoratical probability we just derived, we can now construct a formula to approximate the value of $\\pi$.\n",
    "$$\n",
    "\\begin{align*}\n",
    "    \\mathbb{P}_{\\text{cross}} \\approx \\frac{N_{\\text{cross}}}{N_{\\text{total}}} &\\implies \\frac{2l}{\\pi{D}} \\approx \\frac{N_{\\text{cross}}}{N_{\\text{total}}} \\\\\n",
    "    &\\implies \\frac{1}{\\pi} \\approx \\frac{DN_{\\text{cross}}}{2lN_{\\text{total}}} \\\\\n",
    "    &\\implies \\pi \\approx \\frac{2lN_{\\text{all}}}{DN_{\\text{cross}}}\n",
    "\\end{align*}\n",
    "$$\n",
    "\n",
    "To simulate this problem, we need to randomly generate two numbers: the vertical position of the thrown line, $y' \\in [0, D]$, and the orientation of the needle, $\\theta \\in \\left[0, \\frac{\\pi}{2}\\right]$.\n",
    "A crossing is detected by cehcking whether $y' \\leq y = l\\sin(\\theta)$.\n",
    "\n",
    "Next, we shall describe how to generate uniformly random bits using a quantum computer and how to convert the retrieved bit strings into uniformly distributed floating-point numbers within a given range."
   ]
  },
  {
   "cell_type": "markdown",
   "id": "ccdf8c48",
   "metadata": {},
   "source": [
    "### Random Number Generation"
   ]
  },
  {
   "cell_type": "markdown",
   "id": "761847ec",
   "metadata": {},
   "source": [
    "## Demonstration\n",
    "\n",
    "### Installation\n",
    "\n",
    "Assuming that Python is installed on the hosted device, we now install the essential packages for this demonstration: Qiskit and Qiskit Aer."
   ]
  },
  {
   "cell_type": "code",
   "execution_count": null,
   "id": "6c2b968a",
   "metadata": {},
   "outputs": [],
   "source": [
    "%pip install qiskit qiskit-aer tqdm"
   ]
  },
  {
   "cell_type": "markdown",
   "id": "5529861b",
   "metadata": {},
   "source": [
    "### Classical Simulation\n",
    "\n",
    "It is good idea to simulate first and then run the algorithm in a real quantum computer."
   ]
  },
  {
   "cell_type": "markdown",
   "id": "f9356c32",
   "metadata": {},
   "source": [
    "### Quantum Implementation"
   ]
  },
  {
   "cell_type": "markdown",
   "id": "3d870ed0",
   "metadata": {},
   "source": [
    "## Discussion\n",
    "\n",
    "In fact this is not a good demonstration for the efficiency of using quantum computers."
   ]
  },
  {
   "cell_type": "markdown",
   "id": "e3715f5c",
   "metadata": {},
   "source": [
    "## Conclusion\n"
   ]
  },
  {
   "cell_type": "markdown",
   "id": "29af7b53",
   "metadata": {},
   "source": [
    "## Reference\n",
    "\n",
    "* https://mathworld.wolfram.com/BuffonsNeedleProblem.html"
   ]
  }
 ],
 "metadata": {
  "kernelspec": {
   "display_name": "venv",
   "language": "python",
   "name": "python3"
  },
  "language_info": {
   "codemirror_mode": {
    "name": "ipython",
    "version": 3
   },
   "file_extension": ".py",
   "mimetype": "text/x-python",
   "name": "python",
   "nbconvert_exporter": "python",
   "pygments_lexer": "ipython3",
   "version": "3.13.7"
  }
 },
 "nbformat": 4,
 "nbformat_minor": 5
}
